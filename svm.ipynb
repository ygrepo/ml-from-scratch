{
 "cells": [
  {
   "cell_type": "code",
   "execution_count": 1,
   "metadata": {},
   "outputs": [],
   "source": [
    "import numpy as np\n",
    "import pandas as pd\n",
    "from matplotlib import pyplot as plt\n",
    "plt.rcParams['figure.figsize'] = (16, 9)\n",
    "plt.style.use('ggplot')\n",
    "import matplotlib.pyplot as plt\n",
    "from sklearn.linear_model import LogisticRegression\n",
    "from sklearn.pipeline import make_pipeline\n",
    "from sklearn.model_selection import train_test_split\n",
    "from sklearn.metrics import classification_report\n",
    "from sklearn import datasets"
   ]
  },
  {
   "cell_type": "code",
   "execution_count": 2,
   "metadata": {},
   "outputs": [],
   "source": [
    "from IPython.display import Latex"
   ]
  },
  {
   "cell_type": "code",
   "execution_count": 3,
   "metadata": {},
   "outputs": [],
   "source": [
    "%load_ext autoreload\n",
    "%autoreload 2"
   ]
  },
  {
   "cell_type": "code",
   "execution_count": 4,
   "metadata": {},
   "outputs": [],
   "source": [
    "import pickle\n",
    "import numpy as np\n",
    "import matplotlib.pyplot as plt\n",
    "from cvxopt import matrix, solvers"
   ]
  },
  {
   "cell_type": "code",
   "execution_count": 5,
   "metadata": {},
   "outputs": [],
   "source": [
    "DIM = 2\n",
    "COLORS = ['red', 'blue']\n",
    "\n",
    "# 2-D mean of ones\n",
    "M1 = np.ones((DIM,))\n",
    "# 2-D mean of threes\n",
    "M2 = 3 * np.ones((DIM,))\n",
    "# 2-D covariance of 0.3\n",
    "C1 = np.diag(0.3 * np.ones((DIM,)))\n",
    "# 2-D covariance of 0.2\n",
    "C2 = np.diag(0.2 * np.ones((DIM,)))"
   ]
  },
  {
   "cell_type": "code",
   "execution_count": 6,
   "metadata": {},
   "outputs": [],
   "source": [
    "def generate_gaussian(m, c, num):\n",
    "    return np.random.multivariate_normal(m, c, num)"
   ]
  },
  {
   "cell_type": "code",
   "execution_count": 7,
   "metadata": {},
   "outputs": [
    {
     "name": "stdout",
     "output_type": "stream",
     "text": [
      "x (20, 2) y (20,)\n"
     ]
    }
   ],
   "source": [
    "m = 10\n",
    "# generate NUM points from gaussian 1\n",
    "x1 = generate_gaussian(M1, C1, m)\n",
    "# labels\n",
    "y1 = np.ones((x1.shape[0],))\n",
    "# generate NUM points from gaussian 2\n",
    "x2 = generate_gaussian(M2, C2, m)\n",
    "y2 = -np.ones((x2.shape[0],))\n",
    "# join\n",
    "x = np.concatenate((x1, x2), axis = 0)\n",
    "y = np.concatenate((y1, y2), axis = 0)\n",
    "print('x {} y {}'.format(x.shape, y.shape))\n",
    "# write\n",
    "# with open('gaussiandata.pickle', 'wb') as f:\n",
    "#     pickle.dump((x, y), f)"
   ]
  },
  {
   "cell_type": "code",
   "execution_count": 8,
   "metadata": {},
   "outputs": [],
   "source": [
    "def plot_data_with_labels(ax, x, y, w=None, b=None):\n",
    "    unique = np.unique(y)\n",
    "    for li in range(len(unique)):\n",
    "        x_sub = x[y == unique[li]]\n",
    "        ax.scatter(x_sub[:, 0], x_sub[:, 1], c = COLORS[li])\n",
    "    if w is None:\n",
    "        return\n",
    "    slope = -w[0] / w[1]\n",
    "    intercept = -b / w[1]\n",
    "    x = np.arange(0, 6)\n",
    "    ax.plot(x, x * slope + intercept, 'k-')"
   ]
  },
  {
   "cell_type": "code",
   "execution_count": 9,
   "metadata": {},
   "outputs": [
    {
     "data": {
      "text/plain": [
       "<function matplotlib.pyplot.show(*args, **kw)>"
      ]
     },
     "execution_count": 9,
     "metadata": {},
     "output_type": "execute_result"
    },
    {
     "data": {
      "image/png": "[encoded data removed]",
      "text/plain": [
       "<Figure size 432x288 with 1 Axes>"
      ]
     },
     "metadata": {},
     "output_type": "display_data"
    }
   ],
   "source": [
    "fix, ax = plt.subplots()\n",
    "plot_data_with_labels(ax, x, y);\n",
    "plt.show"
   ]
  },
  {
   "cell_type": "markdown",
   "metadata": {},
   "source": [
    "Recall that the dual optimization problem with hard margin is expressed as:\n",
    "$$    \n",
    "\\begin{equation*}\n",
    "        \\max_\\alpha \\sum_{i=1}^m \\alpha_i - \\frac{1}{2} \\sum_{i,j=1}^m \\alpha_i \\alpha_j y_i y_j K(x_i, x_j)\n",
    "\\end{equation*}\n",
    "$$\n",
    "$$\n",
    "\\begin{equation*}\n",
    "\\text{subject to: }  0 \\le \\alpha_i \\wedge \\sum_{i=1}^m \\alpha_i y_i =0\n",
    "\\end{equation*}\n",
    "$$\n",
    "Converting to a minimization problem we have:\n",
    "$$\n",
    "\\begin{equation*}\n",
    "        \\min_\\alpha  \\frac{1}{2} \\sum_{i,j=1}^m \\alpha_i \\alpha_j y_i y_j K(x_i, x_j) - \\sum_{i=1}^m \\alpha_i\n",
    "\\end{equation*}\n",
    "$$\n",
    "$$\n",
    "\\begin{equation*}\n",
    "    \\text{subject to: }  0 \\le \\alpha_i \\wedge \\alpha \\; y^\\top =0\n",
    "\\end{equation*}\n",
    "$$\n",
    "Using CVX API:\n",
    "$$\n",
    "\\begin{equation*}\n",
    "    \\min  \\frac{1}{2} \\; x^\\top \\; P \\; x + q^\\top \\; x\n",
    "\\end{equation*}\n",
    "$$\n",
    "$$\n",
    "\\begin{equation*}\n",
    "    \\text{s.t. } G x \\le h\n",
    "\\end{equation*}\n",
    "$$"
   ]
  },
  {
   "cell_type": "code",
   "execution_count": 10,
   "metadata": {},
   "outputs": [],
   "source": [
    "def fit_hard_margin(x, y): \n",
    "    m = x.shape[0]\n",
    "    # we'll solve the dual\n",
    "    K = y[:, None] * x\n",
    "    K = np.dot(K, K.T)\n",
    "    P = matrix(K)\n",
    "    q = matrix(-np.ones((m, 1)))\n",
    "    G = matrix(-np.eye(m))\n",
    "    h = matrix(np.zeros(m))\n",
    "    A = matrix(y.reshape(1, -1))\n",
    "    b = matrix(np.zeros(1))\n",
    "    solvers.options['show_progress'] = False\n",
    "    sol = solvers.qp(P, q, G, h, A, b)\n",
    "    alphas = np.array(sol['x'])\n",
    "    return alphas"
   ]
  },
  {
   "cell_type": "code",
   "execution_count": 11,
   "metadata": {},
   "outputs": [],
   "source": [
    "# fit svm classifier\n",
    "alphas = fit_hard_margin(x, y)\n",
    "# get weights\n",
    "w = np.sum(alphas * y[:, None] * x, axis = 0)\n",
    "# get bias\n",
    "cond = (alphas > 1e-4).reshape(-1)\n",
    "b = y[cond] - np.dot(x[cond], w)\n",
    "bias = b[0]"
   ]
  },
  {
   "cell_type": "code",
   "execution_count": 12,
   "metadata": {},
   "outputs": [
    {
     "name": "stdout",
     "output_type": "stream",
     "text": [
      "Alphas =  [0.32219984 0.1968532  0.51905306]\n",
      "w =  [-0.78852148 -0.64524487]\n",
      "b =  2.7387045710931237\n"
     ]
    }
   ],
   "source": [
    "#Display results\n",
    "print('Alphas = ',alphas[alphas > 1e-4])\n",
    "print('w = ', w.flatten())\n",
    "print('b = ', b[0])"
   ]
  },
  {
   "cell_type": "code",
   "execution_count": 13,
   "metadata": {},
   "outputs": [
    {
     "data": {
      "image/png": "[encoded data removed]",
      "text/plain": [
       "<Figure size 432x288 with 1 Axes>"
      ]
     },
     "metadata": {},
     "output_type": "display_data"
    }
   ],
   "source": [
    "fix, ax = plt.subplots()\n",
    "plot_data_with_labels(ax, x, y, w, bias)\n",
    "plt.show()"
   ]
  },
  {
   "cell_type": "code",
   "execution_count": 14,
   "metadata": {},
   "outputs": [
    {
     "name": "stdout",
     "output_type": "stream",
     "text": [
      "x (20, 2) y (20,)\n"
     ]
    }
   ],
   "source": [
    "# 2-D mean of ones\n",
    "M1 = np.ones((DIM,))\n",
    "# 2-D mean of threes\n",
    "M2 = 3 * np.ones((DIM,))\n",
    "# 2-D covariance of 0.3\n",
    "C1 = np.diag(1 * np.ones((DIM,)))\n",
    "# 2-D covariance of 0.2\n",
    "C2 = np.diag(1 * np.ones((DIM,)))\n",
    "# generate NUM points from gaussian 1\n",
    "x1 = generate_gaussian(M1, C1, m)\n",
    "# labels\n",
    "y1 = np.ones((x1.shape[0],))\n",
    "# generate NUM points from gaussian 2\n",
    "x2 = generate_gaussian(M2, C2, m)\n",
    "y2 = -np.ones((x2.shape[0],))\n",
    "# join\n",
    "x = np.concatenate((x1, x2), axis = 0)\n",
    "y = np.concatenate((y1, y2), axis = 0)\n",
    "print('x {} y {}'.format(x.shape, y.shape))"
   ]
  },
  {
   "cell_type": "code",
   "execution_count": 15,
   "metadata": {},
   "outputs": [
    {
     "data": {
      "image/png": "[encoded data removed]",
      "text/plain": [
       "<Figure size 432x288 with 1 Axes>"
      ]
     },
     "metadata": {},
     "output_type": "display_data"
    }
   ],
   "source": [
    "fix, ax = plt.subplots()\n",
    "plot_data_with_labels(ax, x, y)\n",
    "plt.show()"
   ]
  },
  {
   "cell_type": "markdown",
   "metadata": {},
   "source": [
    "The problem is no longer linearly separable. We will use a soft margin:\n",
    "$$\n",
    "\\begin{equation*}\n",
    "        \\min_\\alpha  \\frac{1}{2} \\sum_{i,j=1}^m \\alpha_i \\alpha_j y_i y_j K(x_i, x_j) - \\sum_{i=1}^m \\alpha_i\n",
    "\\end{equation*}\n",
    "$$\n",
    "$$\n",
    "\\begin{equation*}\n",
    "    \\text{subject to: }  0 \\le \\alpha_i \\le C \\wedge \\alpha \\; y^\\top =0\n",
    "\\end{equation*}\n",
    "$$"
   ]
  },
  {
   "cell_type": "code",
   "execution_count": 16,
   "metadata": {},
   "outputs": [],
   "source": [
    "def fit_with_soft_margin(x, y, C): \n",
    "    m = x.shape[0]\n",
    "\n",
    "    \n",
    "    K = y[:, None] * x\n",
    "    K = np.dot(K, K.T)\n",
    "    P = matrix(K)\n",
    "    q = matrix(-np.ones((m, 1)))\n",
    "    G = matrix(np.vstack((np.eye(m)*-1,np.eye(m))))\n",
    "    h = matrix(np.zeros(m))\n",
    "    h = matrix(np.hstack((np.zeros(m), np.ones(m) * C)))\n",
    "    A = matrix(y.reshape(1, -1))\n",
    "    b = matrix(np.zeros(1))\n",
    "    solvers.options['show_progress'] = False\n",
    "    sol = solvers.qp(P, q, G, h, A, b)\n",
    "    alphas = np.array(sol['x'])\n",
    "    return alphas"
   ]
  },
  {
   "cell_type": "code",
   "execution_count": 17,
   "metadata": {},
   "outputs": [],
   "source": [
    "# fit svm classifier\n",
    "C = 0.1\n",
    "alphas = fit_with_soft_margin(x, y, C)\n",
    "# get weights\n",
    "w = np.sum(alphas * y[:, None] * x, axis = 0)\n",
    "# get bias\n",
    "cond = (alphas > 1e-4).reshape(-1)\n",
    "b = y[cond] - np.dot(x[cond], w)\n",
    "bias = b[0]"
   ]
  },
  {
   "cell_type": "code",
   "execution_count": 18,
   "metadata": {},
   "outputs": [
    {
     "name": "stdout",
     "output_type": "stream",
     "text": [
      "Alphas =  [0.09999999 0.05996242 0.09999999 0.1        0.09999998 0.05996261\n",
      " 0.09999999 0.1        0.1        0.1       ]\n",
      "w =  [-0.62569418 -0.48675904]\n",
      "b =  2.2823225031071273\n"
     ]
    }
   ],
   "source": [
    "#Display results\n",
    "print('Alphas = ',alphas[alphas > 1e-4])\n",
    "print('w = ', w.flatten())\n",
    "print('b = ', b[0])"
   ]
  },
  {
   "cell_type": "code",
   "execution_count": 19,
   "metadata": {},
   "outputs": [
    {
     "data": {
      "image/png": "[encoded data removed]",
      "text/plain": [
       "<Figure size 432x288 with 1 Axes>"
      ]
     },
     "metadata": {},
     "output_type": "display_data"
    }
   ],
   "source": [
    "fix, ax = plt.subplots()\n",
    "plot_data_with_labels(ax, x, y, w, bias)\n",
    "plt.show()"
   ]
  }
 ],
 "metadata": {
  "kernelspec": {
   "display_name": "Python 3",
   "language": "python",
   "name": "python3"
  },
  "language_info": {
   "codemirror_mode": {
    "name": "ipython",
    "version": 3
   },
   "file_extension": ".py",
   "mimetype": "text/x-python",
   "name": "python",
   "nbconvert_exporter": "python",
   "pygments_lexer": "ipython3",
   "version": "3.6.6"
  }
 },
 "nbformat": 4,
 "nbformat_minor": 2
}
