{
 "cells": [
  {
   "cell_type": "markdown",
   "metadata": {},
   "source": [
    "# Classification Problem using logistic regression vs. using a Neural Network"
   ]
  },
  {
   "cell_type": "markdown",
   "metadata": {},
   "source": [
    "Let's start by importing numpy and other important packages for this experiment."
   ]
  },
  {
   "cell_type": "code",
   "execution_count": 1,
   "metadata": {},
   "outputs": [],
   "source": [
    "import matplotlib.pyplot as plt\n",
    "import numpy as np\n",
    "import pandas as pd\n",
    "from sklearn.datasets import make_gaussian_quantiles\n",
    "from sklearn.linear_model import LogisticRegression\n",
    "from sklearn.metrics import confusion_matrix, f1_score, recall_score, classification_report\n",
    "from sklearn.metrics import precision_score\n",
    "from sklearn.model_selection import train_test_split\n",
    "from sklearn.preprocessing import RobustScaler"
   ]
  },
  {
   "cell_type": "markdown",
   "metadata": {},
   "source": [
    "# Using sklearn datasets, create a gaussian quantiles dataset and load it into variables X and y."
   ]
  },
  {
   "cell_type": "code",
   "execution_count": 3,
   "metadata": {},
   "outputs": [],
   "source": [
    "def load_dataset():\n",
    "    \"\"\"\n",
    "     This method creates a data set\n",
    "     :param X input\n",
    "     :param y labels labels for roc curves\n",
    "     :param batch_size size of the batch\n",
    "     :return X and y\n",
    "    \"\"\"\n",
    "    N = 2000\n",
    "    X, y = make_gaussian_quantiles(n_samples=N, n_features=2, n_classes=2)\n",
    "    # X, y = make_moons(N, noise=0.20)\n",
    "    return X, y"
   ]
  },
  {
   "cell_type": "markdown",
   "metadata": {},
   "source": [
    "First see how logistic regression performs on this problem. \n",
    "We can use sklearn's built-in functions to do that. \n",
    "Run the code below to train a logistic regression classifier on the dataset."
   ]
  },
  {
   "cell_type": "code",
   "execution_count": 4,
   "metadata": {},
   "outputs": [
    {
     "name": "stdout",
     "output_type": "stream",
     "text": [
      "X=(2000, 2), Y=(2000,), #sample_points=2000\n"
     ]
    }
   ],
   "source": [
    "X, y = load_dataset()\n",
    "print('X={}, Y={}, #sample_points={}'.format(X.shape, y.shape, X.shape[0]))\n",
    "scaler = RobustScaler()\n",
    "X = scaler.fit_transform(X)\n",
    "X_train, X_test, y_train, y_test = train_test_split(X, y, test_size=0.2)\n",
    "lr = LogisticRegression(solver='newton-cg')\n",
    "lr.fit(X_train, y_train)\n",
    "y_pred = lr.predict(X_test)"
   ]
  },
  {
   "cell_type": "markdown",
   "metadata": {},
   "source": [
    "Adding a method to report on classification metrics."
   ]
  },
  {
   "cell_type": "code",
   "execution_count": 6,
   "metadata": {},
   "outputs": [],
   "source": [
    "def classifiers_metric_report(models, labels, X_test, y_test):\n",
    "    \"\"\"\n",
    "    This method generates performance classification metric reports for models\n",
    "    :param models: list of models\n",
    "    :param labels labels for roc curves\n",
    "    :param X_test: testing inout\n",
    "    :param y_test: ground truth\n",
    "    :return report\n",
    "\n",
    "    \"\"\"\n",
    "\n",
    "    columns = ['Precision', 'Recall', 'F1-Score', 'Specificity']\n",
    "    results = pd.DataFrame(0.0, columns=columns, index=labels)\n",
    "\n",
    "    for i, model in enumerate(models):\n",
    "        y_pred = model.predict(X_test)\n",
    "\n",
    "        precision = precision_score(y_test, y_pred)\n",
    "        results.iloc[i, 0] = precision\n",
    "\n",
    "        recall = recall_score(y_test, y_pred, average='weighted')\n",
    "        results.iloc[i, 1] = recall\n",
    "\n",
    "        f1 = f1_score(y_test, y_pred, average='weighted')\n",
    "        results.iloc[i, 2] = f1\n",
    "\n",
    "        tn, fp, fn, tp = confusion_matrix(y_test, y_pred).ravel()\n",
    "\n",
    "        specificity = tn / (tn + fp)\n",
    "        results.iloc[i, 3] = specificity\n",
    "\n",
    "    return results"
   ]
  },
  {
   "cell_type": "markdown",
   "metadata": {},
   "source": [
    "We can now check the performance of our classifier."
   ]
  },
  {
   "cell_type": "code",
   "execution_count": 7,
   "metadata": {},
   "outputs": [
    {
     "name": "stdout",
     "output_type": "stream",
     "text": [
      "              precision    recall  f1-score   support\n",
      "\n",
      "           0       0.46      0.45      0.45       202\n",
      "           1       0.45      0.46      0.46       198\n",
      "\n",
      "   micro avg       0.46      0.46      0.46       400\n",
      "   macro avg       0.46      0.46      0.45       400\n",
      "weighted avg       0.46      0.46      0.45       400\n",
      "\n"
     ]
    }
   ],
   "source": [
    "print(classification_report(y_test, y_pred))"
   ]
  },
  {
   "cell_type": "code",
   "execution_count": 10,
   "metadata": {},
   "outputs": [
    {
     "data": {
      "text/html": [
       "<div>\n",
       "<style scoped>\n",
       "    .dataframe tbody tr th:only-of-type {\n",
       "        vertical-align: middle;\n",
       "    }\n",
       "\n",
       "    .dataframe tbody tr th {\n",
       "        vertical-align: top;\n",
       "    }\n",
       "\n",
       "    .dataframe thead th {\n",
       "        text-align: right;\n",
       "    }\n",
       "</style>\n",
       "<table border=\"1\" class=\"dataframe\">\n",
       "  <thead>\n",
       "    <tr style=\"text-align: right;\">\n",
       "      <th></th>\n",
       "      <th>Precision</th>\n",
       "      <th>Recall</th>\n",
       "      <th>F1-Score</th>\n",
       "      <th>Specificity</th>\n",
       "    </tr>\n",
       "  </thead>\n",
       "  <tbody>\n",
       "    <tr>\n",
       "      <th>Logistic Regression</th>\n",
       "      <td>0.451</td>\n",
       "      <td>0.455</td>\n",
       "      <td>0.455</td>\n",
       "      <td>0.446</td>\n",
       "    </tr>\n",
       "  </tbody>\n",
       "</table>\n",
       "</div>"
      ],
      "text/plain": [
       "                     Precision  Recall  F1-Score  Specificity\n",
       "Logistic Regression      0.451   0.455     0.455        0.446"
      ]
     },
     "execution_count": 10,
     "metadata": {},
     "output_type": "execute_result"
    }
   ],
   "source": [
    "report = classifiers_metric_report([lr], ['Logistic Regression'], X_test, y_test)\n",
    "report.round(3)"
   ]
  },
  {
   "cell_type": "markdown",
   "metadata": {},
   "source": [
    "# Now lets build a Neural Network model with one hidden layer."
   ]
  },
  {
   "cell_type": "markdown",
   "metadata": {},
   "source": [
    "* We define the fully connected Neural Network and use\n",
    "    1. One hidden layer with 3 nodes\n",
    "    2. The activation function for the inputs is tanh and for the output, we use the sigmoid"
   ]
  },
  {
   "cell_type": "code",
   "execution_count": 11,
   "metadata": {},
   "outputs": [],
   "source": [
    "class ANN:\n",
    "\n",
    "    ## Fully Connected Neural Network\n",
    "\n",
    "    def __init__(self, feature_size, learning_rate):\n",
    "        # Trainable parameters.\n",
    "        hidden_size = 3\n",
    "        output_size = 1\n",
    "\n",
    "        self.W1 = np.random.randn(hidden_size, feature_size) * 0.01\n",
    "        self.b1 = np.zeros(shape=(hidden_size, 1))\n",
    "        self.W2 = np.random.randn(output_size, hidden_size) * 0.01\n",
    "        self.b2 = np.zeros(shape=(output_size, 1))\n",
    "        print('W1={}, b1={}, W2={}, b2={}'.format(self.W1.shape, self.b1.shape, self.W2.shape, self.b2.shape))\n",
    "        self.learning_rate = learning_rate\n",
    "\n",
    "    def feedforward(self, X):\n",
    "        self.z_h = np.dot(self.W1, X) + self.b1\n",
    "        self.z = np.tanh(self.z_h)\n",
    "        self.z0 = np.dot(self.W2, self.z) + self.b2\n",
    "        self.output = self.sigmoid(self.z0)\n",
    "        return self.output\n",
    "\n",
    "    def backprop(self, X, y):\n",
    "        # Application of the chain rule to find derivative of the loss function with respect to weights2 and weights1\n",
    "        m = X.shape[1]\n",
    "        E0 = (self.output - y)\n",
    "        dW2 = (1 / m) * np.dot(E0, self.z.T)\n",
    "        db2 = (1 / m) * np.sum(E0, axis=1, keepdims=True)\n",
    "        E1 = np.dot(self.W2.T, E0) * (1 - np.power(self.z, 2))\n",
    "        dW1 = (1 / m) * np.dot(E1, X.T)\n",
    "        db1 = (1 / m) * np.sum(E1, axis=1, keepdims=True)\n",
    "        self.W1 -= self.learning_rate * dW1\n",
    "        self.b1 -= self.learning_rate * db1\n",
    "        self.W2 -= self.learning_rate * dW2\n",
    "        self.b2 -= self.learning_rate * db2\n",
    "\n",
    "    def compute_logloss_cost(self, output, y):\n",
    "        m = y.shape[1]  # number of examples\n",
    "\n",
    "        # Compute the cross-entropy cost\n",
    "        logprobs = np.multiply(np.log(output), y) + np.multiply((1 - y), np.log(1 - output))\n",
    "        cost = - np.sum(logprobs) / m\n",
    "\n",
    "        cost = np.squeeze(cost)  # makes sure cost is the dimension we expect.\n",
    "        return cost\n",
    "\n",
    "    def predict(self, X):\n",
    "        ### Prediction based on log loss architecture\n",
    "        z = np.tanh(np.dot(self.W1, X) + self.b1)\n",
    "        predictions = self.sigmoid(np.dot(self.W2, z) + self.b2)\n",
    "        predictions = np.squeeze(np.where(predictions > 0.5, 1, 0))\n",
    "        return predictions\n",
    "\n",
    "    def sigmoid(self, x):\n",
    "        return 1 / (1 + np.exp(-x))\n",
    "\n",
    "    def sigmoid_derivative(self, z):\n",
    "        return self.sigmoid(z) * (1 - self.sigmoid(z))\n"
   ]
  },
  {
   "cell_type": "markdown",
   "metadata": {},
   "source": [
    "## Now we can run the Model on the entire data with 1 hidden layer (3 neurons) and 100000 epochs."
   ]
  },
  {
   "cell_type": "code",
   "execution_count": 16,
   "metadata": {},
   "outputs": [],
   "source": [
    "def train(X, y, batch_size, learning_rate=0.1, num_iterations=10000):\n",
    "    \"\"\"\n",
    "    This method trains the neural network\n",
    "    :param X input\n",
    "    :param y labels labels for roc curves\n",
    "    :param batch_size size of the batch\n",
    "    :param learning_rate\n",
    "    :param num_iterations\n",
    "    :return neural network\n",
    "    \"\"\"\n",
    "\n",
    "    print('X={}, y={}'.format(X.shape, y.shape))\n",
    "\n",
    "    nn = ANN(X.shape[0], learning_rate)\n",
    "\n",
    "    # Full loop iteration\n",
    "    for i in range(num_iterations):\n",
    "        output = nn.feedforward(X)\n",
    "        if i % 1000 == 0:\n",
    "            cost = nn.compute_logloss_cost(output, y)\n",
    "            print(\"Cost after iteration %i: %f\" % (i, cost))\n",
    "        nn.backprop(X, y)\n",
    "    return nn"
   ]
  },
  {
   "cell_type": "code",
   "execution_count": 17,
   "metadata": {},
   "outputs": [
    {
     "name": "stdout",
     "output_type": "stream",
     "text": [
      "X=(2, 1600), y=(1, 1600)\n",
      "W1=(3, 2), b1=(3, 1), W2=(1, 3), b2=(1, 1)\n",
      "Cost after iteration 0: 0.693145\n",
      "Cost after iteration 1000: 0.693112\n",
      "Cost after iteration 2000: 0.692979\n",
      "Cost after iteration 3000: 0.692710\n",
      "Cost after iteration 4000: 0.688988\n",
      "Cost after iteration 5000: 0.537733\n",
      "Cost after iteration 6000: 0.475228\n",
      "Cost after iteration 7000: 0.460478\n",
      "Cost after iteration 8000: 0.253094\n",
      "Cost after iteration 9000: 0.195807\n"
     ]
    }
   ],
   "source": [
    "nn = train(X_train.T, y_train.reshape(-1, 1).T, batch_size=200)"
   ]
  },
  {
   "cell_type": "markdown",
   "metadata": {},
   "source": [
    "# Let's generate a report on the performances of our neural network classifier."
   ]
  },
  {
   "cell_type": "code",
   "execution_count": 18,
   "metadata": {},
   "outputs": [
    {
     "name": "stdout",
     "output_type": "stream",
     "text": [
      "              precision    recall  f1-score   support\n",
      "\n",
      "           0       0.95      0.91      0.93       202\n",
      "           1       0.91      0.95      0.93       198\n",
      "\n",
      "   micro avg       0.93      0.93      0.93       400\n",
      "   macro avg       0.93      0.93      0.93       400\n",
      "weighted avg       0.93      0.93      0.93       400\n",
      "\n"
     ]
    }
   ],
   "source": [
    "y_pred = nn.predict(X_test.T)\n",
    "print(classification_report(y_test, y_pred))"
   ]
  },
  {
   "cell_type": "code",
   "execution_count": 19,
   "metadata": {},
   "outputs": [
    {
     "data": {
      "text/html": [
       "<div>\n",
       "<style scoped>\n",
       "    .dataframe tbody tr th:only-of-type {\n",
       "        vertical-align: middle;\n",
       "    }\n",
       "\n",
       "    .dataframe tbody tr th {\n",
       "        vertical-align: top;\n",
       "    }\n",
       "\n",
       "    .dataframe thead th {\n",
       "        text-align: right;\n",
       "    }\n",
       "</style>\n",
       "<table border=\"1\" class=\"dataframe\">\n",
       "  <thead>\n",
       "    <tr style=\"text-align: right;\">\n",
       "      <th></th>\n",
       "      <th>Precision</th>\n",
       "      <th>Recall</th>\n",
       "      <th>F1-Score</th>\n",
       "      <th>Specificity</th>\n",
       "    </tr>\n",
       "  </thead>\n",
       "  <tbody>\n",
       "    <tr>\n",
       "      <th>Neural Network</th>\n",
       "      <td>0.913</td>\n",
       "      <td>0.932</td>\n",
       "      <td>0.932</td>\n",
       "      <td>0.911</td>\n",
       "    </tr>\n",
       "  </tbody>\n",
       "</table>\n",
       "</div>"
      ],
      "text/plain": [
       "                Precision  Recall  F1-Score  Specificity\n",
       "Neural Network      0.913   0.932     0.932        0.911"
      ]
     },
     "execution_count": 19,
     "metadata": {},
     "output_type": "execute_result"
    }
   ],
   "source": [
    "report = classifiers_metric_report([nn], ['Neural Network'], X_test.T, y_test)\n",
    "report.round(3)"
   ]
  },
  {
   "cell_type": "markdown",
   "metadata": {},
   "source": [
    "Overall the performances are much better given that we did not tune our logistic classifier hyperparameters using a grid search.\n",
    "Yet unlike logistic regression, Neural Networks are able to learn even highly non-linear decision boundaries."
   ]
  },
  {
   "cell_type": "markdown",
   "metadata": {},
   "source": [
    "TODO: try more hidden layers, also check batch update."
   ]
  }
 ],
 "metadata": {
  "kernelspec": {
   "display_name": "Python 3",
   "language": "python",
   "name": "python3"
  },
  "language_info": {
   "codemirror_mode": {
    "name": "ipython",
    "version": 3
   },
   "file_extension": ".py",
   "mimetype": "text/x-python",
   "name": "python",
   "nbconvert_exporter": "python",
   "pygments_lexer": "ipython3",
   "version": "3.6.6"
  }
 },
 "nbformat": 4,
 "nbformat_minor": 2
}
